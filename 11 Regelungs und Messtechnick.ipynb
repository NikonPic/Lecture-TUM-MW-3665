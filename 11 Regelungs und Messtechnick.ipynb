{
 "cells": [
  {
   "cell_type": "markdown",
   "metadata": {
    "slideshow": {
     "slide_type": "slide"
    }
   },
   "source": [
    "# 11. Regelungstechnik\n",
    "Einfache Simulation und Regelung eines Systems mittels Python und Numpy"
   ]
  },
  {
   "cell_type": "markdown",
   "metadata": {
    "slideshow": {
     "slide_type": "-"
    }
   },
   "source": [
    "### Ziel: Erstellung einer einfachen Simulation eines mechanischen Modelles und Entwurf eine geeigneten PID-Regelrs für dieses System"
   ]
  },
  {
   "cell_type": "markdown",
   "metadata": {
    "slideshow": {
     "slide_type": "fragment"
    }
   },
   "source": [
    "## Vorgehen:\n",
    "* 1. Modellbildung\n",
    "* 2. Simulation\n",
    "* 3. Reglerdesign\n",
    "* 4. Optimierung des Reglers"
   ]
  },
  {
   "cell_type": "markdown",
   "metadata": {
    "slideshow": {
     "slide_type": "slide"
    }
   },
   "source": [
    "## Start: Einbinden der benötigten Libraries"
   ]
  },
  {
   "cell_type": "code",
   "execution_count": 1,
   "metadata": {
    "slideshow": {
     "slide_type": "-"
    }
   },
   "outputs": [],
   "source": [
    "# Numerical library\n",
    "import numpy as np\n",
    "\n",
    "# Visualization library\n",
    "import matplotlib.pyplot as plt\n",
    "\n",
    "# Interactive library\n",
    "import ipywidgets as widgets"
   ]
  },
  {
   "cell_type": "markdown",
   "metadata": {
    "slideshow": {
     "slide_type": "slide"
    }
   },
   "source": [
    "# 1. Modellbildung\n",
    "\n",
    "![](./img/strecke.png)\n",
    "\n",
    "Wir wollen das System simulieren.\n",
    "\n",
    "Wie? \n",
    "Indem wir die Systemänderung (=Ableitung) beschreiben können!\n",
    "\n",
    "$$ \\bf{x}_{t+1} = \\bf{x}_{t} + \\Delta t \\frac{\\delta \\bf{x}}{\\delta t}$$"
   ]
  },
  {
   "cell_type": "markdown",
   "metadata": {
    "slideshow": {
     "slide_type": "subslide"
    }
   },
   "source": [
    "## Differentialgleichung der Regelstrecke\n",
    "\n",
    "$$ m \\ddot{x} + d \\dot{x} + c{x} = F$$\n",
    "\n",
    "Diese soll nun in die Form:\n",
    "$$ \\dot{\\bf{x}} = \\bf{A} \\bf{x} + \\bf{b}  u$$\n",
    "umformuliert werden."
   ]
  },
  {
   "cell_type": "markdown",
   "metadata": {
    "slideshow": {
     "slide_type": "subslide"
    }
   },
   "source": [
    "### 1.1 Zustandsvektor so formulieren, dass höchste Ableitung durch Zustandsvektor darstellbar ist:\n",
    "\n",
    "$$ \\bf{x} = \\begin{pmatrix}x\\\\\\dot{x}\\end{pmatrix},   \\bf{\\dot{x}} = \\begin{pmatrix}\\dot{x}\\\\\\ddot{x}\\end{pmatrix} $$"
   ]
  },
  {
   "cell_type": "markdown",
   "metadata": {
    "slideshow": {
     "slide_type": "fragment"
    }
   },
   "source": [
    "### 1.2 Die Stellgröße u definieren:\n",
    "\n",
    "$$ u = F $$"
   ]
  },
  {
   "cell_type": "markdown",
   "metadata": {
    "slideshow": {
     "slide_type": "subslide"
    }
   },
   "source": [
    "### 1.3 Die Differentialgleichung nach der höchsten Ableitung umformulieren:\n",
    "$$ m \\ddot{x} + d \\dot{x} + c{x} = F$$"
   ]
  },
  {
   "cell_type": "markdown",
   "metadata": {
    "slideshow": {
     "slide_type": "fragment"
    }
   },
   "source": [
    "$$ \\ddot{x} = - \\frac{c}{m} x - \\frac{d}{m} \\dot{x} + \\frac{1}{m} F$$"
   ]
  },
  {
   "cell_type": "markdown",
   "metadata": {
    "slideshow": {
     "slide_type": "fragment"
    }
   },
   "source": [
    "### 1.4 Das Gleichungssystem für die Vektorschreibweise ausformulieren:\n",
    "\n",
    "$$ \\begin{pmatrix}\\dot{x}\\\\\\ddot{x}\\end{pmatrix} = \\begin{pmatrix} 0 &1 \\\\ -\\frac{c}{m} &-\\frac{d}{m}\\end{pmatrix}\n",
    "\\begin{pmatrix}x\\\\\\dot{x}\\end{pmatrix} + \\begin{pmatrix}0\\\\\\frac{1}{m}\\end{pmatrix} F\n",
    "$$"
   ]
  },
  {
   "cell_type": "markdown",
   "metadata": {
    "slideshow": {
     "slide_type": "subslide"
    }
   },
   "source": [
    "### 1.5 Die erhaltene Matrix A und Vektor b notieren:\n",
    "\n",
    "$$ \\bf{A} = \\begin{pmatrix} 0 &1 \\\\ -\\frac{c}{m} &-\\frac{d}{m}\\end{pmatrix}, \\bf{b} = \\begin{pmatrix}0\\\\\\frac{1}{m}\\end{pmatrix} $$"
   ]
  },
  {
   "cell_type": "code",
   "execution_count": 2,
   "metadata": {},
   "outputs": [],
   "source": [
    "def get_A_b(m, d, c):\n",
    "    \"\"\"\n",
    "    Function defining the System matrix of the Ode Problem:\n",
    "    m * ddx + d * dx + c * x = F\n",
    "    \"\"\"\n",
    "    # System matrix A # ToDO\n",
    "    A = np.matrix([\n",
    "        [0, 1],\n",
    "        [-c/m, -d/m]\n",
    "    ])  \n",
    "    # Activation vector b\n",
    "    b = np.array([\n",
    "        0, 1/m\n",
    "    ])\n",
    "    return A, b"
   ]
  },
  {
   "cell_type": "markdown",
   "metadata": {
    "slideshow": {
     "slide_type": "subslide"
    }
   },
   "source": [
    "### 1.6 Good practice: Test it!\n",
    "\n",
    "$$ \\bf{A} = \\begin{pmatrix} 0 &1 \\\\ -\\frac{c}{m} &-\\frac{d}{m}\\end{pmatrix}, \\bf{b} = \\begin{pmatrix}0\\\\\\frac{1}{m}\\end{pmatrix} $$"
   ]
  },
  {
   "cell_type": "code",
   "execution_count": 3,
   "metadata": {},
   "outputs": [
    {
     "data": {
      "text/plain": [
       "(matrix([[ 0.,  1.],\n",
       "         [-3., -2.]]), array([0., 1.]))"
      ]
     },
     "execution_count": 3,
     "metadata": {},
     "output_type": "execute_result"
    }
   ],
   "source": [
    "m = 1\n",
    "d = 2\n",
    "c = 3\n",
    "\n",
    "A, b = get_A_b(m=m, d=d, c=c)\n",
    "A, b"
   ]
  },
  {
   "cell_type": "markdown",
   "metadata": {
    "slideshow": {
     "slide_type": "subslide"
    }
   },
   "source": [
    "### 1.7 Berechne Ableitung\n",
    "\n",
    "$$ \\dot{\\bf{x}} = \\bf{A} \\bf{x} + \\bf{b}  u$$"
   ]
  },
  {
   "cell_type": "code",
   "execution_count": 4,
   "metadata": {
    "slideshow": {
     "slide_type": "-"
    }
   },
   "outputs": [
    {
     "data": {
      "text/plain": [
       "array([0., 1.])"
      ]
     },
     "execution_count": 4,
     "metadata": {},
     "output_type": "execute_result"
    }
   ],
   "source": [
    "def get_derivative(A, b, x_vec, u):\n",
    "    \"\"\"\"\"\"\n",
    "    # dx = A*x + b*u\n",
    "    dxdt = np.matmul(A, x_vec) + b * u\n",
    "    # transform to array\n",
    "    dxdt = np.squeeze(np.asarray(dxdt))\n",
    "    return dxdt\n",
    "\n",
    "# Test:\n",
    "dxdt = get_derivative(A, b, [0., 0.], 1)\n",
    "dxdt"
   ]
  },
  {
   "cell_type": "markdown",
   "metadata": {
    "slideshow": {
     "slide_type": "subslide"
    }
   },
   "source": [
    "### 1.8 Zusammenfassung der Differentialgleichung in einer Klasse"
   ]
  },
  {
   "cell_type": "code",
   "execution_count": 5,
   "metadata": {
    "slideshow": {
     "slide_type": "skip"
    }
   },
   "outputs": [],
   "source": [
    "class Ode_Model(object):\n",
    "    \"\"\"\n",
    "    Class containing all information about the linear ODE Problem\n",
    "    \"\"\"\n",
    "    \n",
    "    def __init__(self, controller):\n",
    "        \"\"\"Initialise the ODE object\"\"\"\n",
    "        # Parameter definitions\n",
    "        self.set_physical_params() \n",
    "        # Set the controller\n",
    "        self.controller = controller\n",
    "        # reset \n",
    "        self.reset()\n",
    "    \n",
    "    def set_physical_params(self, mass=1, damping=1, stiffness=1):\n",
    "        \"\"\"set the system parameters\"\"\"\n",
    "        self.mass = mass # kg\n",
    "        self.damping = damping # kg/s\n",
    "        self.stiffness = stiffness # kg/s²\n",
    "        \n",
    "        # recalculate the System components A and b:\n",
    "        self.set_A_b()\n",
    "    \n",
    "    def set_A_b(self, eps=1e-6):\n",
    "        \"\"\"Set the system configuration\"\"\"       \n",
    "        # System matrix A\n",
    "        self.A = np.matrix([\n",
    "            [0., 1.],\n",
    "            [-self.stiffness / (self.mass + eps), -self.damping / (self.mass + eps)]\n",
    "        ])     \n",
    "        # Activation vector b\n",
    "        self.b = np.array(\n",
    "            [0, 1\n",
    "        ])\n",
    "    \n",
    "    def reset(self):\n",
    "        \"\"\"reset the system for new simulation\"\"\"\n",
    "        self.last_t = 0\n",
    "        self.controller.reset()\n",
    "        \n",
    "    def __call__(self, x_vec, dt):\n",
    "        \"\"\"Main function call, which returns the derivative\"\"\"\n",
    "        # Get the control force u\n",
    "        u = self.controller(x_vec, dt)\n",
    "        \n",
    "        # Calculate the derivative using\n",
    "        # dx = A * x + b * u\n",
    "        dxdt = np.matmul(self.A, x_vec) + self.b * u\n",
    "        \n",
    "        # return as array\n",
    "        return np.squeeze(np.asarray(dxdt))"
   ]
  },
  {
   "cell_type": "markdown",
   "metadata": {
    "slideshow": {
     "slide_type": "slide"
    }
   },
   "source": [
    "## 2. Simulation des Modells\n",
    "\n",
    "Bevor der Regler entworfen wird ist es wichtig das Verhalten des Systems zu verstehen.\n",
    "\n",
    "Daher ist es von Vorteil das System simulieren zu können."
   ]
  },
  {
   "cell_type": "markdown",
   "metadata": {
    "slideshow": {
     "slide_type": "subslide"
    }
   },
   "source": [
    "### 2.1 Anwendung der einfachen Forwärts Euler Integration:\n",
    "$$ \\bf{x}_{t+1} = \\bf{x}_{t} + \\Delta t \\frac{\\delta \\bf{x}}{\\delta t}$$"
   ]
  },
  {
   "cell_type": "code",
   "execution_count": 6,
   "metadata": {},
   "outputs": [],
   "source": [
    "def euler_integrator(x0, A, b, t0=0, tf=10, dt=0.05):\n",
    "    # time vector\n",
    "    tt = np.arange(t0, tf + dt, dt)\n",
    "    # init the trajectory\n",
    "    x_traj = np.zeros([tt.shape[0], 2])\n",
    "    \n",
    "    # iterate through the vector\n",
    "    for i, t in enumerate(tt):\n",
    "        x_traj[i, :] = x0\n",
    "        u = 0\n",
    "        dxdt = get_derivative(A=A, b=b, x_vec=x0, u=u)\n",
    "        # update with euler\n",
    "        x0 += dxdt * dt\n",
    "        \n",
    "    return tt, x_traj"
   ]
  },
  {
   "cell_type": "markdown",
   "metadata": {
    "slideshow": {
     "slide_type": "subslide"
    }
   },
   "source": [
    "### 2.2 Teste Ergebnis\n",
    "$$ m \\ddot{x} + d \\dot{x} + c{x} = 0$$"
   ]
  },
  {
   "cell_type": "code",
   "execution_count": 7,
   "metadata": {},
   "outputs": [
    {
     "data": {
      "text/plain": [
       "[<matplotlib.lines.Line2D at 0x16654871e08>,\n",
       " <matplotlib.lines.Line2D at 0x16658d3b148>]"
      ]
     },
     "execution_count": 7,
     "metadata": {},
     "output_type": "execute_result"
    },
    {
     "data": {
      "image/png": "[encoded data removed]",
      "text/plain": [
       "<Figure size 432x288 with 1 Axes>"
      ]
     },
     "metadata": {
      "needs_background": "light"
     },
     "output_type": "display_data"
    }
   ],
   "source": [
    "x0 = [2, 0]\n",
    "tt, x_traj = euler_integrator(x0, A, b)\n",
    "plt.plot(tt, x_traj)"
   ]
  },
  {
   "cell_type": "markdown",
   "metadata": {
    "slideshow": {
     "slide_type": "subslide"
    }
   },
   "source": [
    "### 2.3 Zusammenfassung der Integrators in einer Klasse"
   ]
  },
  {
   "cell_type": "code",
   "execution_count": 33,
   "metadata": {
    "slideshow": {
     "slide_type": "skip"
    }
   },
   "outputs": [],
   "source": [
    "class Euler_Simulator(object):\n",
    "    \"\"\"class containing general simulator information\"\"\"\n",
    "    \n",
    "    def __init__(self, system):\n",
    "        \"\"\"setup for simulator\"\"\"\n",
    "        self.set_simulation_params()\n",
    "        self.system = system\n",
    "        \n",
    "    def set_simulation_params(self, t0=0, tf=10, dt=0.05):\n",
    "        \"\"\"set the simulation parameters\"\"\"\n",
    "        self.t0, self.tf, self.dt = t0, tf, dt\n",
    "    \n",
    "    def __call__(self, x0):\n",
    "        \"\"\"perform the simulation\"\"\"\n",
    "        # reset before simulation\n",
    "        self.system.reset()\n",
    "        \n",
    "        # time vector\n",
    "        tt = np.arange(self.t0, self.tf + self.dt, self.dt)\n",
    "        \n",
    "        # init the trajectory\n",
    "        x_traj = np.zeros([tt.shape[0], 2])\n",
    "        \n",
    "        # iterate through the vector\n",
    "        for i, t in enumerate(tt):\n",
    "            x_traj[i, :] = x0\n",
    "            \n",
    "            dxdt = self.system(x0, self.dt)\n",
    "            x0 += dxdt * self.dt\n",
    "        \n",
    "        return x_traj"
   ]
  },
  {
   "cell_type": "markdown",
   "metadata": {
    "slideshow": {
     "slide_type": "subslide"
    }
   },
   "source": [
    "### 2.4 Interaktive Visualisierung der Systemparameter mit \"Widgets\"\n",
    "Ziel: Systemparameter besser begreifbar machen"
   ]
  },
  {
   "cell_type": "code",
   "execution_count": 56,
   "metadata": {},
   "outputs": [
    {
     "data": {
      "application/vnd.jupyter.widget-view+json": {
       "model_id": "0c9b88f0ee8e451dac5c3270a8f939a6",
       "version_major": 2,
       "version_minor": 0
      },
      "text/plain": [
       "interactive(children=(FloatSlider(value=1.0, description='Demo:', max=10.0), Output()), _dom_classes=('widget-…"
      ]
     },
     "metadata": {},
     "output_type": "display_data"
    }
   ],
   "source": [
    "# Import Library\n",
    "import ipywidgets as widgets\n",
    "\n",
    "# Create Widget\n",
    "demo = widgets.FloatSlider(min=0, max=10, value=1, description='Demo:')\n",
    "\n",
    "# Define update Function\n",
    "def update_demo(argument):\n",
    "    print(argument)\n",
    "    \n",
    "# make it interactive\n",
    "widgets.interactive(update_demo, argument=demo)"
   ]
  },
  {
   "cell_type": "markdown",
   "metadata": {
    "slideshow": {
     "slide_type": "subslide"
    }
   },
   "source": [
    "### Wir wollen also die Systemparameter visualisieren und benötigen dafür die entsprechende Widgets"
   ]
  },
  {
   "cell_type": "code",
   "execution_count": 38,
   "metadata": {
    "slideshow": {
     "slide_type": "-"
    }
   },
   "outputs": [],
   "source": [
    "m = widgets.FloatSlider(min=0, max=10, value=1, description='Mass:')\n",
    "d = widgets.FloatSlider(min=0, max=10, value=1, description='Damping:')\n",
    "c = widgets.FloatSlider(min=0, max=10, value=1, description='Stiffness:')\n",
    "\n",
    "pos_0 = widgets.FloatSlider(min=-5, max=5, value=0, description='Position_0:')\n",
    "vel_0 = widgets.FloatSlider(min=-5, max=5, value=0, description='Velocity_0:')"
   ]
  },
  {
   "cell_type": "markdown",
   "metadata": {
    "slideshow": {
     "slide_type": "subslide"
    }
   },
   "source": [
    "### Um unser Model initialisieren zu können brauchen wir eine Dummy Klasse für den Controller\n",
    "\n",
    "```python\n",
    "class Ode_Model(object):\n",
    "    \n",
    "    def __init__(self, controller):\n",
    "        \"\"\"Initialise the ODE object\"\"\"\n",
    "        self.controller = controller\n",
    "```"
   ]
  },
  {
   "cell_type": "code",
   "execution_count": 34,
   "metadata": {
    "slideshow": {
     "slide_type": "-"
    }
   },
   "outputs": [],
   "source": [
    "class Zero_Controller(object):\n",
    "    \n",
    "    def __init__(self):\n",
    "        self.set_target()\n",
    "        \n",
    "    def reset(self):\n",
    "        pass\n",
    "    \n",
    "    def set_target(self, target=1):\n",
    "        \"\"\"Set the desired position\"\"\"\n",
    "        self.target = target\n",
    "\n",
    "    def __call__(self, x_vec, dt):\n",
    "        return 0"
   ]
  },
  {
   "cell_type": "markdown",
   "metadata": {
    "slideshow": {
     "slide_type": "subslide"
    }
   },
   "source": [
    "### Initialisiere die Objekte: Model, Controller und Simulator"
   ]
  },
  {
   "cell_type": "code",
   "execution_count": 35,
   "metadata": {
    "slideshow": {
     "slide_type": "-"
    }
   },
   "outputs": [],
   "source": [
    "# setup the objects\n",
    "zero_control = Zero_Controller()\n",
    "model = Ode_Model(controller=zero_control)\n",
    "sim = Euler_Simulator(model)\n",
    "\n",
    "# vectors for plotting\n",
    "t = np.arange(sim.t0, sim.tf + sim.dt, sim.dt)\n",
    "x_des = np.ones(t.shape) * zero_control.target"
   ]
  },
  {
   "cell_type": "markdown",
   "metadata": {
    "slideshow": {
     "slide_type": "subslide"
    }
   },
   "source": [
    "### Die Update Funktion"
   ]
  },
  {
   "cell_type": "code",
   "execution_count": 48,
   "metadata": {
    "slideshow": {
     "slide_type": "-"
    }
   },
   "outputs": [],
   "source": [
    "def update_model(pos_0, vel_0, m, d, c):\n",
    "    \"\"\"\n",
    "    updating fucntion which we will call from the widgets\n",
    "    \"\"\"\n",
    "    # set the desired parameters\n",
    "    model.set_physical_params(mass=m, damping=d, stiffness=c)\n",
    "    x0 = [pos_0, vel_0]\n",
    "    x_traj = sim(x0)\n",
    "    \n",
    "    # plot the results\n",
    "    visualize_results(t, x_traj, x_des)"
   ]
  },
  {
   "cell_type": "markdown",
   "metadata": {
    "slideshow": {
     "slide_type": "subslide"
    }
   },
   "source": [
    "### Darstellung der Ergebnisse"
   ]
  },
  {
   "cell_type": "code",
   "execution_count": 49,
   "metadata": {
    "slideshow": {
     "slide_type": "-"
    }
   },
   "outputs": [],
   "source": [
    "def visualize_results(t, x_traj, x_des, figsize=(10,6)):\n",
    "    \"\"\"function to visualize all results\"\"\"\n",
    "    fig = plt.figure(figsize=figsize)\n",
    "    plt.plot(t, x_traj[:, 0], label='position')\n",
    "    plt.plot(t, x_traj[:, 1], label='velocity')\n",
    "    plt.plot(t, x_des, 'r--', label='x_des')\n",
    "    plt.grid(0.1)\n",
    "    plt.ylim([-2, 5])\n",
    "    plt.legend()\n",
    "    plt.xlabel('time in s')\n",
    "    plt.ylabel('x')\n",
    "    plt.show()"
   ]
  },
  {
   "cell_type": "markdown",
   "metadata": {
    "slideshow": {
     "slide_type": "subslide"
    }
   },
   "source": [
    "## Interaktive Modellparameter"
   ]
  },
  {
   "cell_type": "code",
   "execution_count": 50,
   "metadata": {
    "scrolled": false,
    "slideshow": {
     "slide_type": "-"
    }
   },
   "outputs": [
    {
     "data": {
      "application/vnd.jupyter.widget-view+json": {
       "model_id": "2b9127a4a40f4054b80a7940fd7c6ebd",
       "version_major": 2,
       "version_minor": 0
      },
      "text/plain": [
       "interactive(children=(FloatSlider(value=0.9, description='Position_0:', max=5.0, min=-5.0), FloatSlider(value=…"
      ]
     },
     "metadata": {},
     "output_type": "display_data"
    }
   ],
   "source": [
    "widgets.interactive(update_model, pos_0= pos_0, vel_0=vel_0, m=m, d=d, c=c)"
   ]
  },
  {
   "cell_type": "markdown",
   "metadata": {
    "slideshow": {
     "slide_type": "slide"
    }
   },
   "source": [
    "## 3. Entwurf des Proportinal, Integral, Differenzial Reglers (PID- Regler)\n",
    "![](./img/PID.png)"
   ]
  },
  {
   "cell_type": "markdown",
   "metadata": {
    "slideshow": {
     "slide_type": "subslide"
    }
   },
   "source": [
    "## 3.1 Warum P-Anteil nicht ausreichend? -- Probieren wir es doch aus!"
   ]
  },
  {
   "cell_type": "code",
   "execution_count": 51,
   "metadata": {
    "slideshow": {
     "slide_type": "-"
    }
   },
   "outputs": [],
   "source": [
    "class P_Controller(object):\n",
    "    \n",
    "    def __init__(self):\n",
    "        self.set_target()\n",
    "        \n",
    "    def reset(self):\n",
    "        pass\n",
    "    \n",
    "    def set_target(self, target=1):\n",
    "        \"\"\"Set the desired position\"\"\"\n",
    "        self.target = target\n",
    "    \n",
    "    def set_params(self, K_p=1):\n",
    "        \"\"\"set and reset the controller parameters\"\"\"\n",
    "        self.K_p = K_p\n",
    "\n",
    "    def __call__(self, x_vec, dt):\n",
    "        # current system vector\n",
    "        x, dx = x_vec\n",
    "        # err\n",
    "        err = self.target - x\n",
    "        # u\n",
    "        u = self.K_p * err\n",
    "        return u"
   ]
  },
  {
   "cell_type": "markdown",
   "metadata": {
    "slideshow": {
     "slide_type": "subslide"
    }
   },
   "source": [
    "### ... und machen es interaktiv!"
   ]
  },
  {
   "cell_type": "code",
   "execution_count": 54,
   "metadata": {},
   "outputs": [],
   "source": [
    "# create widget\n",
    "K_p = widgets.FloatSlider(min=0, max=10, value=0, description='P:')\n",
    "\n",
    "# Setup the objects\n",
    "controller = P_Controller()\n",
    "system = Ode_Model(controller)\n",
    "sim = Euler_Simulator(system)\n",
    "\n",
    "\n",
    "def update_P(K_p):\n",
    "    \"\"\"linked function\"\"\"\n",
    "    # perform calculation\n",
    "    controller.set_params(K_p=K_p)\n",
    "    x_traj = sim(x0)\n",
    "    # visualize result\n",
    "    visualize_results(t, x_traj, x_des)"
   ]
  },
  {
   "cell_type": "code",
   "execution_count": 55,
   "metadata": {
    "slideshow": {
     "slide_type": "subslide"
    }
   },
   "outputs": [
    {
     "data": {
      "application/vnd.jupyter.widget-view+json": {
       "model_id": "20f3096a1be44e49b2d50c80d15524ac",
       "version_major": 2,
       "version_minor": 0
      },
      "text/plain": [
       "interactive(children=(FloatSlider(value=0.0, description='P:', max=10.0), Output()), _dom_classes=('widget-int…"
      ]
     },
     "metadata": {},
     "output_type": "display_data"
    }
   ],
   "source": [
    "widgets.interactive(update_P, K_p=K_p)"
   ]
  },
  {
   "cell_type": "markdown",
   "metadata": {
    "slideshow": {
     "slide_type": "subslide"
    }
   },
   "source": [
    "## 3.2 Erweiterung auf den PID Controller"
   ]
  },
  {
   "cell_type": "code",
   "execution_count": 15,
   "metadata": {
    "slideshow": {
     "slide_type": "skip"
    }
   },
   "outputs": [],
   "source": [
    "class PID_Controller(object):\n",
    "    \"\"\"\n",
    "    Class containing all relevant information for the PID controller\n",
    "    \"\"\"\n",
    "    \n",
    "    def __init__(self):\n",
    "        \"\"\"set all attributes of the controller\"\"\"\n",
    "        self.set_params()\n",
    "        self.set_target()\n",
    "        self.reset()\n",
    "    \n",
    "    def set_params(self, K_p=1, K_i=1, K_d=1):\n",
    "        \"\"\"set and reset the controller parameters\"\"\"\n",
    "        self.K_p, self.K_i, self.K_d = K_p, K_i, K_d\n",
    "    \n",
    "    def set_target(self, target=1):\n",
    "        \"\"\"Set the desired position\"\"\"\n",
    "        self.target = target\n",
    "        \n",
    "    def reset(self):\n",
    "        \"\"\"Reset the control errors\"\"\"\n",
    "        self.int_err = 0\n",
    "        self.last_err = 0\n",
    "\n",
    "    def __call__(self, x_vec, dt):\n",
    "        \"\"\"\n",
    "        The control function with the PID control:\n",
    "        - Proportional Difference\n",
    "        - Integral Difference\n",
    "        - Differential Difference\n",
    "        \"\"\"\n",
    "        # current system vector\n",
    "        x, dx = x_vec\n",
    "        \n",
    "        # calculate current error\n",
    "        # P-Part\n",
    "        err = self.target - x\n",
    "        p_part = self.K_p * err\n",
    "        \n",
    "        # calculate the integral error\n",
    "        # I-Part\n",
    "        self.int_err += dt * err\n",
    "        i_part = self.K_i * self.int_err\n",
    "        \n",
    "        # calculate the difference error using temporal differences\n",
    "        # D-Part\n",
    "        diff_err = (err - self.last_err) / dt\n",
    "        d_part = self.K_d * diff_err\n",
    "        \n",
    "        # update last err\n",
    "        self.last_err = err \n",
    "        \n",
    "        # Sum the parts together\n",
    "        u = p_part + i_part + d_part\n",
    "        return u"
   ]
  },
  {
   "cell_type": "code",
   "execution_count": 31,
   "metadata": {},
   "outputs": [],
   "source": [
    "# Setup the objects\n",
    "controller = PID_Controller()\n",
    "system = Ode_Model(controller)\n",
    "sim = Euler_Simulator(system)\n",
    "\n",
    "# initial state\n",
    "x0 = [0, 0]\n",
    "x_traj = sim(x0)\n",
    "\n",
    "# vectors for plotting\n",
    "t = np.arange(sim.t0, sim.tf + sim.dt, sim.dt)\n",
    "x_des = np.ones(t.shape) * controller.target\n",
    "\n",
    "def update_controls(K_p, K_i, K_d):\n",
    "    \"\"\"\n",
    "    linked function to sliders and replots\n",
    "    \"\"\"\n",
    "    # perform calculation\n",
    "    controller.set_params(K_p=K_p, K_i=K_i, K_d=K_d)\n",
    "    x_traj = sim(x0)\n",
    "    # visualize result\n",
    "    visualize_results(t, x_traj, x_des)\n",
    "\n",
    "K_p = widgets.FloatSlider(min=0, max=10, value=0, description='P:')\n",
    "K_i = widgets.FloatSlider(min=0, max=10, value=0, description='I:')\n",
    "K_d = widgets.FloatSlider(min=0, max=10, value=0, description='D:')"
   ]
  },
  {
   "cell_type": "markdown",
   "metadata": {
    "slideshow": {
     "slide_type": "slide"
    }
   },
   "source": [
    "## 4. Optimierung des PID-Reglers"
   ]
  },
  {
   "cell_type": "code",
   "execution_count": 32,
   "metadata": {
    "slideshow": {
     "slide_type": "-"
    }
   },
   "outputs": [
    {
     "data": {
      "application/vnd.jupyter.widget-view+json": {
       "model_id": "fe6eb82297f34b48b36b3a96ad7f8c69",
       "version_major": 2,
       "version_minor": 0
      },
      "text/plain": [
       "interactive(children=(FloatSlider(value=0.0, description='P:', max=10.0), FloatSlider(value=0.0, description='…"
      ]
     },
     "metadata": {},
     "output_type": "display_data"
    }
   ],
   "source": [
    "widgets.interactive(update_controls, K_p=K_p, K_i=K_i, K_d=K_d)"
   ]
  },
  {
   "cell_type": "markdown",
   "metadata": {},
   "source": [
    "## Versuche die Tabelle auszufüllen mit Hilfe der Visualisierung!"
   ]
  }
 ],
 "metadata": {
  "@webio": {
   "lastCommId": null,
   "lastKernelId": null
  },
  "celltoolbar": "Slideshow",
  "kernelspec": {
   "display_name": "Python 3",
   "language": "python",
   "name": "python3"
  },
  "language_info": {
   "codemirror_mode": {
    "name": "ipython",
    "version": 3
   },
   "file_extension": ".py",
   "mimetype": "text/x-python",
   "name": "python",
   "nbconvert_exporter": "python",
   "pygments_lexer": "ipython3",
   "version": "3.7.6"
  }
 },
 "nbformat": 4,
 "nbformat_minor": 4
}
